{
 "cells": [
  {
   "cell_type": "markdown",
   "metadata": {},
   "source": [
    "# Lab 3: Introduction to Python\n",
    "In this lab you will be working on python basics.\n",
    "\n",
    "**This lab must be completed individually.**\n",
    "\n",
    "Where provided, try your best to match the **Sample Output** as best as you can.\n",
    "\n",
    "## Accept the lab\n",
    "\n",
    "To accept this lab on GitHub Classroom, [you must click this link](https://classroom.github.com/a/6V9fm8Hj)."
   ]
  },
  {
   "cell_type": "markdown",
   "metadata": {},
   "source": [
    "## Objectives\n",
    "\n",
    "1. Practice Python loops and conditions\n",
    "2. Practice Python lists and dictionaries\n",
    "3. Practice string manipulation in Python\n",
    "4. Practice importing and using the Pandas module"
   ]
  },
  {
   "cell_type": "markdown",
   "metadata": {},
   "source": [
    "## Part 1: Python Fundamentals (10 marks)\n",
    "\n",
    "This part of the lab takes you through some of the fundamental components of Python."
   ]
  },
  {
   "cell_type": "markdown",
   "metadata": {},
   "source": [
    "### 1A: `if-elif-else` statements (2 marks)\n",
    "\n",
    "Fill in missing pieces of the following code such that print statements make sense. You should replace <YOUR_CODE_HERE> with your code."
   ]
  },
  {
   "cell_type": "code",
   "execution_count": 15,
   "metadata": {},
   "outputs": [],
   "source": [
    "name = 'Jon Snow'"
   ]
  },
  {
   "cell_type": "code",
   "execution_count": 4,
   "metadata": {},
   "outputs": [
    {
     "name": "stdout",
     "output_type": "stream",
     "text": [
      "Name \"Jon Snow S\" is 9, 10 or 11 chars long\n"
     ]
    }
   ],
   "source": [
    "### Your solution here\n",
    "\n",
    "name = 'Jon Snow S'\n",
    "\n",
    "if len(name) > 18:\n",
    "    print('Name \"{}\" is more than 18 chars long'.format(name))\n",
    "    length_description = 'long'\n",
    "elif len(name) > 15:\n",
    "    print('Name \"{}\" is more than 15 chars long'.format(name))\n",
    "    length_description = 'semi long'\n",
    "elif len(name) > 12:\n",
    "    print('Name \"{}\" is more than 12 chars long'.format(name))\n",
    "    length_description = 'semi long'\n",
    "elif len(name) > 8:\n",
    "    print('Name \"{}\" is 9, 10 or 11 chars long'.format(name))\n",
    "    length_description = 'semi short'\n",
    "else:\n",
    "    print('Name \"{}\" is a short name'.format(name))\n",
    "    length_description = 'short'"
   ]
  },
  {
   "cell_type": "markdown",
   "metadata": {},
   "source": [
    "### 1B: `for` loops (2 marks)\n",
    "\n",
    "Fill <YOUR_CODE_HERE> in the code snippet below so that this sample output is printed:\n",
    "\n",
    "#### Sample Output\n",
    "> A<br>\n",
    "> AA<br>\n",
    "> AAA<br>\n",
    "> AAAA<br>\n",
    "> AAAAA<br>\n",
    "> AAAA<br>\n",
    "> AAA<br>\n",
    "> AA<br>\n",
    "> A<br>"
   ]
  },
  {
   "cell_type": "code",
   "execution_count": 27,
   "metadata": {},
   "outputs": [
    {
     "name": "stdout",
     "output_type": "stream",
     "text": [
      "A\n",
      "AA\n",
      "AAA\n",
      "AAAA\n",
      "AAAAA\n",
      "AAAA\n",
      "AAA\n",
      "AA\n",
      "A\n"
     ]
    }
   ],
   "source": [
    "### Your solution here\n",
    "\n",
    "n = 10\n",
    "mid = int(n/2)\n",
    "for i in range(1,n):\n",
    "    if (i <= mid):\n",
    "        print(\"A\" * i)\n",
    "    else:\n",
    "        j = mid - (i - mid)\n",
    "        print(\"A\" * j)"
   ]
  },
  {
   "cell_type": "markdown",
   "metadata": {},
   "source": [
    "### 1C: `for` loops and `lists`\n",
    "\n",
    "We have given you some sample code, as well as a list called `data`. \n",
    "\n",
    "> data = [53,9,5,90,63,5,97,40,92,48,53,8,38,63,13,15,66,81,57,79,42,91,25,89,66,4,73,45,80,17]\n",
    "\n",
    "For each of the exercises 1C1 - 1CX, use the `data` list to answer the question by writing the appropriate bits of python code."
   ]
  },
  {
   "cell_type": "markdown",
   "metadata": {},
   "source": [
    "#### 1C1. Print values that are within the upper and lower bounds of 15 and 40 (2 marks)\n",
    "\n",
    "*Hint: Use a for loop and loop through each of the elements in data*\n",
    "\n",
    "##### Sample output (it's okay if yours is vertical rather than horizontally printed):\n",
    "\n",
    "> [40, 38, 15, 25, 17]\n"
   ]
  },
  {
   "cell_type": "code",
   "execution_count": 28,
   "metadata": {},
   "outputs": [
    {
     "name": "stdout",
     "output_type": "stream",
     "text": [
      "[40, 38, 15, 25, 17]\n"
     ]
    }
   ],
   "source": [
    "data = [53,9,5,90,63,5,97,40,92,48,53,8,38,63,13,15,66,81,57,79,42,91,25,89,66,4,73,45,80,17]\n",
    "result = []\n",
    "for d in data:\n",
    "    if d >= 15 and d <=40:\n",
    "        result.append(d)\n",
    "\n",
    "print(result)"
   ]
  },
  {
   "cell_type": "markdown",
   "metadata": {},
   "source": [
    "#### 1C2. Write code to calculate and print the maximum, minimum, sum, count, and average of items in `data`  (4 marks)\n",
    "\n",
    "*Hint: for the mean, you will need to combine the sum and the count*\n",
    "\n",
    "##### Sample output\n",
    "\n",
    "> The max is: 97 <br/>\n",
    "> The min is: 4 <br/>\n",
    "> The sum is: 1507 <br/>\n",
    "> The count is: 30 <br/>\n",
    "> The mean is: 50.233333333333334 <br/>"
   ]
  },
  {
   "cell_type": "code",
   "execution_count": 1,
   "metadata": {},
   "outputs": [
    {
     "name": "stdout",
     "output_type": "stream",
     "text": [
      "The max is: 97\n",
      "The min is: 4\n",
      "The sum is: 1507\n",
      "The count is: 30\n",
      "The mean is: 50.233333333333334\n"
     ]
    }
   ],
   "source": [
    "### Your solution here\n",
    "data = [53,9,5,90,63,5,97,40,92,48,53,8,38,63,13,15,66,81,57,79,42,91,25,89,66,4,73,45,80,17]\n",
    "\n",
    "\n",
    "print('The max is: {0}'.format(max(data)))\n",
    "print('The min is: {0}'.format(min(data)))\n",
    "sum_data = sum(data)\n",
    "print('The sum is: {0}'.format(sum_data))\n",
    "length_data = len(data)\n",
    "print('The count is: {0}'.format(length_data))\n",
    "mean = sum_data / length_data\n",
    "print('The mean is: {0}'.format(mean))"
   ]
  },
  {
   "cell_type": "markdown",
   "metadata": {},
   "source": [
    "#### 1D3. (Optional) Using list comprehension (NOT for loops), print out the numbers within the specified upper and lower bounds (inclusive) of 12 and 80 (0 marks).\n",
    "\n",
    "#### Sample output:\n",
    "> [53, 63, 40, 48, 53, 38, 63, 13, 15, 66, 57, 79, 42, 25, 66, 73, 45, 80, 17]"
   ]
  },
  {
   "cell_type": "code",
   "execution_count": 4,
   "metadata": {},
   "outputs": [
    {
     "name": "stdout",
     "output_type": "stream",
     "text": [
      "[53, 63, 40, 48, 53, 38, 63, 13, 15, 66, 57, 79, 42, 25, 66, 73, 45, 80, 17]\n"
     ]
    }
   ],
   "source": [
    "### Your solution here\n",
    "data = [53,9,5,90,63,5,97,40,92,48,53,8,38,63,13,15,66,81,57,79,42,91,25,89,66,4,73,45,80,17]\n",
    "result = [d for d in data if d > 11 and d <81]\n",
    "print(result)"
   ]
  },
  {
   "cell_type": "markdown",
   "metadata": {},
   "source": [
    "## Part 2: Working with data using pandas (12 marks)\n",
    "\n",
    "In this part of the lab, we will practice loading in a sample data set using pandas, and doing some basic operations."
   ]
  },
  {
   "cell_type": "markdown",
   "metadata": {},
   "source": [
    "### 2A1. Load in the data (4 marks)\n",
    "\n",
    "Here is the URL of the `pokemon` dataset inside the `data` folder.\n",
    "\n",
    "Your task is to use the pandas [`read_csv()`](https://pandas.pydata.org/pandas-docs/stable/reference/api/pandas.read_csv.html) function to read this dataset, assign it to a dataframe called `df`, and then print its [`head`](https://pandas.pydata.org/pandas-docs/stable/reference/api/pandas.DataFrame.head.html) also known as the first 5 lines of the dataframe.\n",
    "\n",
    "*Hint: don't forget to first `import pandas as pd` to use `read_csv` and other pandas function.*"
   ]
  },
  {
   "cell_type": "code",
   "execution_count": 3,
   "metadata": {},
   "outputs": [
    {
     "name": "stdout",
     "output_type": "stream",
     "text": [
      "   #                   Name Type 1  Type 2  Total  HP  Attack  Defense  \\\n",
      "0  1              Bulbasaur  Grass  Poison    318  45      49       49   \n",
      "1  2                Ivysaur  Grass  Poison    405  60      62       63   \n",
      "2  3               Venusaur  Grass  Poison    525  80      82       83   \n",
      "3  3  VenusaurMega Venusaur  Grass  Poison    625  80     100      123   \n",
      "4  4             Charmander   Fire     NaN    309  39      52       43   \n",
      "\n",
      "   Sp. Atk  Sp. Def  Speed  Generation  Legendary  \n",
      "0       65       65     45           1      False  \n",
      "1       80       80     60           1      False  \n",
      "2      100      100     80           1      False  \n",
      "3      122      120     80           1      False  \n",
      "4       60       50     65           1      False  \n"
     ]
    }
   ],
   "source": [
    "### Your solution here\n",
    "import pandas as pd\n",
    "\n",
    "df = pd.read_csv('data/pokemon.csv', header = 0)\n",
    "print(df.head())"
   ]
  },
  {
   "cell_type": "markdown",
   "metadata": {},
   "source": [
    "### 2A2. How many total pokemon are there in the dataset? (2 mark)\n",
    "\n",
    "Make sure to use the `dataframe.count()` function to print the total number of entries in each column of the dataframe before you answer!"
   ]
  },
  {
   "cell_type": "code",
   "execution_count": 17,
   "metadata": {},
   "outputs": [
    {
     "name": "stdout",
     "output_type": "stream",
     "text": [
      "#             800\n",
      "Name          800\n",
      "Type 1        800\n",
      "Type 2        414\n",
      "Total         800\n",
      "HP            800\n",
      "Attack        800\n",
      "Defense       800\n",
      "Sp. Atk       800\n",
      "Sp. Def       800\n",
      "Speed         800\n",
      "Generation    800\n",
      "Legendary     800\n",
      "dtype: int64\n",
      "\n",
      "\n",
      " Other method:\n",
      "\n",
      "\n",
      "0      13\n",
      "1      13\n",
      "2      13\n",
      "3      13\n",
      "4      12\n",
      "       ..\n",
      "795    13\n",
      "796    13\n",
      "797    13\n",
      "798    13\n",
      "799    13\n",
      "Length: 800, dtype: int64\n",
      "\n",
      "800 pokemons\n"
     ]
    }
   ],
   "source": [
    "### Your solution here\n",
    "import pandas as pd\n",
    "\n",
    "df = pd.read_csv('data/pokemon.csv')\n",
    "print(df.count()) \n",
    "print(\"\\n\\n Other method:\\n\\n\")\n",
    "print(df.count(axis='columns'))\n",
    "\n",
    "print('\\n800 pokemons')"
   ]
  },
  {
   "cell_type": "markdown",
   "metadata": {},
   "source": [
    "### 2A3. Create a new dataframe `df2` that only includes the Pokemon from the first generation. (2 marks)\n",
    "\n",
    "*Hint: Remember that you can subset dataframes using the `[]` syntax. [More on this here](https://pandas.pydata.org/docs/getting_started/intro_tutorials/03_subset_data.html)*"
   ]
  },
  {
   "cell_type": "code",
   "execution_count": 23,
   "metadata": {},
   "outputs": [
    {
     "name": "stdout",
     "output_type": "stream",
     "text": [
      "       #                   Name   Type 1    Type 2  Total   HP  Attack  \\\n",
      "0      1              Bulbasaur    Grass    Poison    318   45      49   \n",
      "1      2                Ivysaur    Grass    Poison    405   60      62   \n",
      "2      3               Venusaur    Grass    Poison    525   80      82   \n",
      "3      3  VenusaurMega Venusaur    Grass    Poison    625   80     100   \n",
      "4      4             Charmander     Fire       NaN    309   39      52   \n",
      "..   ...                    ...      ...       ...    ...  ...     ...   \n",
      "161  149              Dragonite   Dragon    Flying    600   91     134   \n",
      "162  150                 Mewtwo  Psychic       NaN    680  106     110   \n",
      "163  150    MewtwoMega Mewtwo X  Psychic  Fighting    780  106     190   \n",
      "164  150    MewtwoMega Mewtwo Y  Psychic       NaN    780  106     150   \n",
      "165  151                    Mew  Psychic       NaN    600  100     100   \n",
      "\n",
      "     Defense  Sp. Atk  Sp. Def  Speed  Generation  Legendary  \n",
      "0         49       65       65     45           1      False  \n",
      "1         63       80       80     60           1      False  \n",
      "2         83      100      100     80           1      False  \n",
      "3        123      122      120     80           1      False  \n",
      "4         43       60       50     65           1      False  \n",
      "..       ...      ...      ...    ...         ...        ...  \n",
      "161       95      100      100     80           1      False  \n",
      "162       90      154       90    130           1       True  \n",
      "163      100      154      100    130           1       True  \n",
      "164       70      194      120    140           1       True  \n",
      "165      100      100      100    100           1      False  \n",
      "\n",
      "[166 rows x 13 columns]\n"
     ]
    }
   ],
   "source": [
    "### Your solution here\n",
    "\n",
    "import pandas as pd\n",
    "\n",
    "df = pd.read_csv('data/pokemon.csv', header = 0)\n",
    "df2 = df[df[\"Generation\"] == 1]\n",
    "print(df2)"
   ]
  },
  {
   "cell_type": "markdown",
   "metadata": {},
   "source": [
    "### 2A4. Print ONLY the mean HP, Attack, Defense, and Speed of all pokemon in the first generation using pandas functions (4 marks)"
   ]
  },
  {
   "cell_type": "code",
   "execution_count": 1,
   "metadata": {},
   "outputs": [
    {
     "name": "stdout",
     "output_type": "stream",
     "text": [
      "HP         65.819277\n",
      "Attack     76.638554\n",
      "Defense    70.861446\n",
      "Speed      72.584337\n",
      "dtype: float64\n"
     ]
    }
   ],
   "source": [
    "### Your solution here\n",
    "\n",
    "import pandas as pd\n",
    "\n",
    "df = pd.read_csv('data/pokemon.csv', header = 0)\n",
    "df2 = df[df[\"Generation\"] == 1]\n",
    "df2 = df2[[\"HP\", \"Attack\", \"Defense\", \"Speed\"]]\n",
    "print(df2.mean())"
   ]
  },
  {
   "cell_type": "markdown",
   "metadata": {},
   "source": [
    "## Part 3 - Dictionaries, Lists and data manapulation (10 marks)\n",
    "\n",
    "In this part we explore another fundamental data structure in python, called Dictionaries."
   ]
  },
  {
   "cell_type": "markdown",
   "metadata": {},
   "source": [
    "### 3A. Create a dictionary that has 3 keys: name, age and salary, and enter in the following dummy information. (2 marks)\n",
    "\n",
    "#### Sample output\n",
    "> {'name': 'Tim Cook', 'age': 59, 'salary': 3000000.0}"
   ]
  },
  {
   "cell_type": "code",
   "execution_count": 22,
   "metadata": {},
   "outputs": [
    {
     "name": "stdout",
     "output_type": "stream",
     "text": [
      "{'name': 'Tim Cook', 'age': 59, 'salary': 3000000.0}\n"
     ]
    }
   ],
   "source": [
    "### Your solution here\n",
    "dict = {'name': 'Tim Cook', 'age': 59, 'salary': 3000000.0}\n",
    "print(dict)\n"
   ]
  },
  {
   "cell_type": "code",
   "execution_count": 4,
   "metadata": {},
   "outputs": [],
   "source": [
    "### Your solution here"
   ]
  },
  {
   "cell_type": "markdown",
   "metadata": {},
   "source": [
    "### 3B. Create a second dictionary, this time with at least 5 different names, ages, and salaries. (2 marks)\n",
    "\n",
    "*Hint: There should only be three keys, and the values should be a list.*\n",
    "\n",
    "#### Sample Output\n",
    "\n",
    "> {'name': ['Tim Cook', 'Person 2', 'Person 3'],\n",
    "> 'age': [59, 24, 40],\n",
    "> 'salary': [30000000.0, 200000.0, 900000.0]}"
   ]
  },
  {
   "cell_type": "code",
   "execution_count": 20,
   "metadata": {},
   "outputs": [
    {
     "name": "stdout",
     "output_type": "stream",
     "text": [
      "{'name': ['Tim Cook', 'Jose Pena', 'Bruna Rivetti', 'Claudia Revelo', 'Manuel Duran'], 'age': [59, 24, 40, 23, 50], 'salary': [30000000.0, 200000.0, 900000.0, 10000.0, 300000.0]}\n"
     ]
    }
   ],
   "source": [
    "### Your solution here\n",
    "dict = {'name': ['Tim Cook', 'Jose Pena', 'Bruna Rivetti', 'Claudia Revelo', 'Manuel Duran'], \n",
    "        'age': [59, 24, 40, 23, 50], \n",
    "        'salary': [30000000.0, 200000.0, 900000.0, 10000.0, 300000.0]}\n",
    "print(dict)\n"
   ]
  },
  {
   "cell_type": "markdown",
   "metadata": {},
   "source": [
    "### 3C. Create a pandas dataframe using the dictionary you created above (2 marks)\n",
    "\n",
    "**Hint: Use the `pd.DataFrame.from_dict()` method**\n",
    "\n",
    "#### Sample output\n",
    "![](df.png)"
   ]
  },
  {
   "cell_type": "code",
   "execution_count": 11,
   "metadata": {},
   "outputs": [
    {
     "name": "stdout",
     "output_type": "stream",
     "text": [
      "             name  age      salary\n",
      "0        Tim Cook   59  30000000.0\n",
      "1       Jose Pena   24    200000.0\n",
      "2   Bruna Rivetti   40    900000.0\n",
      "3  Claudia Revelo   23     10000.0\n",
      "4    Manuel Duran   50    300000.0\n"
     ]
    }
   ],
   "source": [
    "### Your solution here\n",
    "import pandas as pd\n",
    "\n",
    "dict = {'name': ['Tim Cook', 'Jose Pena', 'Bruna Rivetti', 'Claudia Revelo', 'Manuel Duran'], \n",
    "        'age': [59, 24, 40, 23, 50], \n",
    "        'salary': [30000000.0, 200000.0, 900000.0, 10000.0, 300000.0]}\n",
    "df = pd.DataFrame.from_dict(dict)\n",
    "print(df)\n"
   ]
  },
  {
   "cell_type": "markdown",
   "metadata": {},
   "source": [
    "### 3D. Rename all three columns of the dataframe (4 mark)\n",
    "\n",
    "*Hint: you should use the pandas function [rename()](https://pandas.pydata.org/pandas-docs/stable/reference/api/pandas.DataFrame.rename.html) to accomplish this. You can rename it to whatever you like, just show us you are able to use this function*\n"
   ]
  },
  {
   "cell_type": "code",
   "execution_count": 17,
   "metadata": {},
   "outputs": [
    {
     "name": "stdout",
     "output_type": "stream",
     "text": [
      "             name  age      salary\n",
      "0        Tim Cook   59  30000000.0\n",
      "1       Jose Pena   24    200000.0\n",
      "2   Bruna Rivetti   40    900000.0\n",
      "3  Claudia Revelo   23     10000.0\n",
      "4    Manuel Duran   50    300000.0\n",
      "\n",
      "         Employee  HowOld        Wage\n",
      "0        Tim Cook      59  30000000.0\n",
      "1       Jose Pena      24    200000.0\n",
      "2   Bruna Rivetti      40    900000.0\n",
      "3  Claudia Revelo      23     10000.0\n",
      "4    Manuel Duran      50    300000.0\n"
     ]
    }
   ],
   "source": [
    "### Your solution here\n",
    "### Your solution here\n",
    "import pandas as pd\n",
    "\n",
    "dict = {'name': ['Tim Cook', 'Jose Pena', 'Bruna Rivetti', 'Claudia Revelo', 'Manuel Duran'], \n",
    "        'age': [59, 24, 40, 23, 50], \n",
    "        'salary': [30000000.0, 200000.0, 900000.0, 10000.0, 300000.0]}\n",
    "df = pd.DataFrame.from_dict(dict)\n",
    "print(df, end=\"\\n\\n\")\n",
    "\n",
    "df = df.rename(columns={\"name\": \"Employee\", \"age\": \"HowOld\", \"salary\": \"Wage\"})\n",
    "print(df)"
   ]
  },
  {
   "cell_type": "markdown",
   "metadata": {},
   "source": [
    "## Part 4 - More dictionary practice (4 marks - Bonus)\n",
    "\n",
    "**(Bonus)** (3 marks) Create a Python program that takes a string text and calculates the frequency of each letter. Data set (copy as string into Python code)\n",
    "\n",
    "text = \"\"\"Elephants are mammals of the family Elephantidae and the largest existing land animals. Three species are currently recognised: the African bush elephant, the African forest elephant, and the Asian elephant. Elephantidae is the only surviving family of the order Proboscidea; extinct members include the mastodons. The family Elephantidae also contains several now-extinct groups, including the mammoths and straight-tusked elephants. African elephants have larger ears and concave backs, whereas Asian elephants have smaller ears, and convex or level backs. Distinctive features of all elephants include a long trunk, tusks, large ear flaps, massive legs, and tough but sensitive skin. The trunk, also called a proboscis, is used for breathing, bringing food and water to the mouth, and grasping objects. Tusks, which are derived from the incisor teeth, serve both as weapons and as tools for moving objects and digging. The large ear flaps assist in maintaining a constant body temperature as well as in communication. The pillar-like legs carry their great weight. Elephants are scattered throughout sub-Saharan Africa, South Asia, and Southeast Asia and are found in different habitats, including savannahs, forests, deserts, and marshes. They are herbivorous, and they stay near water when it is accessible. They are considered to be keystone species, due to their impact on their environments.[1] Other animals tend to keep their distance from elephants; the exception is their predators such as lions, tigers, hyenas, and wild dogs, which usually target only young elephants (calves). Elephants have a fission–fusion society, in which multiple family groups come together to socialise. Females (cows) tend to live in family groups, which can consist of one female with her calves or several related females with offspring. The groups, which do not include bulls, are led by the (usually) oldest cow, known as the matriarch.\"\"\"\n",
    "\n",
    "*Hint: There are many ways to do this, the most \"elegant\" way uses a mixture of sets, and the `Counter` modules from [`collections`](https://docs.python.org/3/library/collections.html#counter-objects)*\n",
    "\n",
    "\n",
    "#### Sample output:\n",
    "\n",
    ">' ': Count of 293 and Percentage of 15.2%<br>\n",
    ">'(': Count of 3 and Percentage of 0.2%<br>\n",
    ">')': Count of 3 and Percentage of 0.2%<br>\n",
    ">',': Count of 32 and Percentage of 1.7%<br>\n",
    ">'-': Count of 4 and Percentage of 0.2%<br>\n",
    ">'.': Count of 17 and Percentage of 0.9%<br>\n",
    ">'1': Count of 1 and Percentage of 0.1%<br>\n",
    ">':': Count of 1 and Percentage of 0.1%<br>\n",
    ">';': Count of 2 and Percentage of 0.1%<br>\n",
    ">'A': Count of 8 and Percentage of 0.4%<br>\n",
    ">'D': Count of 1 and Percentage of 0.1%<br>\n",
    ">'E': Count of 6 and Percentage of 0.3%<br>\n",
    ">'F': Count of 1 and Percentage of 0.1%<br>\n",
    ">'O': Count of 1 and Percentage of 0.1%<br>\n",
    ">'P': Count of 1 and Percentage of 0.1%<br>\n",
    ">'S': Count of 3 and Percentage of 0.2%<br>\n",
    ">'T': Count of 9 and Percentage of 0.5%<br>\n",
    ">'[': Count of 1 and Percentage of 0.1%<br>\n",
    ">']': Count of 1 and Percentage of 0.1%<br>\n",
    ">'a': Count of 147 and Percentage of 7.6%<br>\n",
    ">'b': Count of 20 and Percentage of 1.0%<br>\n",
    ">'c': Count of 55 and Percentage of 2.8%<br>\n",
    ">'d': Count of 53 and Percentage of 2.7%<br>\n",
    ">'e': Count of 189 and Percentage of 9.8%<br>\n",
    ">'f': Count of 32 and Percentage of 1.7%<br>\n",
    ">'g': Count of 37 and Percentage of 1.9%<br>\n",
    ">'h': Count of 84 and Percentage of 4.4%<br>\n",
    ">'i': Count of 109 and Percentage of 5.6%<br>\n",
    ">'j': Count of 2 and Percentage of 0.1%<br>\n",
    ">'k': Count of 12 and Percentage of 0.6%<br>\n",
    ">'l': Count of 80 and Percentage of 4.1%<br>\n",
    ">'m': Count of 35 and Percentage of 1.8%<br>\n",
    ">'n': Count of 114 and Percentage of 5.9%<br>\n",
    ">'o': Count of 87 and Percentage of 4.5%<br>\n",
    ">'p': Count of 34 and Percentage of 1.8%<br>\n",
    ">'r': Count of 92 and Percentage of 4.8%<br>\n",
    ">'s': Count of 131 and Percentage of 6.8%<br>\n",
    ">'t': Count of 120 and Percentage of 6.2%<br>\n",
    ">'u': Count of 41 and Percentage of 2.1%<br>\n",
    ">'v': Count of 22 and Percentage of 1.1%<br>\n",
    ">'w': Count of 19 and Percentage of 1.0%<br>\n",
    ">'x': Count of 5 and Percentage of 0.3%<br>\n",
    ">'y': Count of 21 and Percentage of 1.1%<br>\n",
    ">'–': Count of 1 and Percentage of 0.1%<br>"
   ]
  },
  {
   "cell_type": "code",
   "execution_count": 8,
   "metadata": {},
   "outputs": [
    {
     "name": "stdout",
     "output_type": "stream",
     "text": [
      "' ' : Count of  293  and Percentage of  15.2%\n",
      "'(' : Count of  3  and Percentage of  0.2%\n",
      "')' : Count of  3  and Percentage of  0.2%\n",
      "',' : Count of  32  and Percentage of  1.7%\n",
      "'-' : Count of  4  and Percentage of  0.2%\n",
      "'.' : Count of  17  and Percentage of  0.9%\n",
      "'1' : Count of  1  and Percentage of  0.1%\n",
      "':' : Count of  1  and Percentage of  0.1%\n",
      "';' : Count of  2  and Percentage of  0.1%\n",
      "'A' : Count of  8  and Percentage of  0.4%\n",
      "'D' : Count of  1  and Percentage of  0.1%\n",
      "'E' : Count of  6  and Percentage of  0.3%\n",
      "'F' : Count of  1  and Percentage of  0.1%\n",
      "'O' : Count of  1  and Percentage of  0.1%\n",
      "'P' : Count of  1  and Percentage of  0.1%\n",
      "'S' : Count of  3  and Percentage of  0.2%\n",
      "'T' : Count of  9  and Percentage of  0.5%\n",
      "'[' : Count of  1  and Percentage of  0.1%\n",
      "']' : Count of  1  and Percentage of  0.1%\n",
      "'a' : Count of  147  and Percentage of  7.6%\n",
      "'b' : Count of  20  and Percentage of  1.0%\n",
      "'c' : Count of  55  and Percentage of  2.8%\n",
      "'d' : Count of  53  and Percentage of  2.7%\n",
      "'e' : Count of  189  and Percentage of  9.8%\n",
      "'f' : Count of  32  and Percentage of  1.7%\n",
      "'g' : Count of  37  and Percentage of  1.9%\n",
      "'h' : Count of  84  and Percentage of  4.4%\n",
      "'i' : Count of  109  and Percentage of  5.6%\n",
      "'j' : Count of  2  and Percentage of  0.1%\n",
      "'k' : Count of  12  and Percentage of  0.6%\n",
      "'l' : Count of  80  and Percentage of  4.1%\n",
      "'m' : Count of  35  and Percentage of  1.8%\n",
      "'n' : Count of  114  and Percentage of  5.9%\n",
      "'o' : Count of  87  and Percentage of  4.5%\n",
      "'p' : Count of  34  and Percentage of  1.8%\n",
      "'r' : Count of  92  and Percentage of  4.8%\n",
      "'s' : Count of  131  and Percentage of  6.8%\n",
      "'t' : Count of  120  and Percentage of  6.2%\n",
      "'u' : Count of  41  and Percentage of  2.1%\n",
      "'v' : Count of  22  and Percentage of  1.1%\n",
      "'w' : Count of  19  and Percentage of  1.0%\n",
      "'x' : Count of  5  and Percentage of  0.3%\n",
      "'y' : Count of  21  and Percentage of  1.1%\n",
      "'–' : Count of  1  and Percentage of  0.1%\n"
     ]
    }
   ],
   "source": [
    "text = \"Elephants are mammals of the family Elephantidae and the largest existing land animals. Three species are currently recognised: the African bush elephant, the African forest elephant, and the Asian elephant. Elephantidae is the only surviving family of the order Proboscidea; extinct members include the mastodons. The family Elephantidae also contains several now-extinct groups, including the mammoths and straight-tusked elephants. African elephants have larger ears and concave backs, whereas Asian elephants have smaller ears, and convex or level backs. Distinctive features of all elephants include a long trunk, tusks, large ear flaps, massive legs, and tough but sensitive skin. The trunk, also called a proboscis, is used for breathing, bringing food and water to the mouth, and grasping objects. Tusks, which are derived from the incisor teeth, serve both as weapons and as tools for moving objects and digging. The large ear flaps assist in maintaining a constant body temperature as well as in communication. The pillar-like legs carry their great weight. Elephants are scattered throughout sub-Saharan Africa, South Asia, and Southeast Asia and are found in different habitats, including savannahs, forests, deserts, and marshes. They are herbivorous, and they stay near water when it is accessible. They are considered to be keystone species, due to their impact on their environments.[1] Other animals tend to keep their distance from elephants; the exception is their predators such as lions, tigers, hyenas, and wild dogs, which usually target only young elephants (calves). Elephants have a fission–fusion society, in which multiple family groups come together to socialise. Females (cows) tend to live in family groups, which can consist of one female with her calves or several related females with offspring. The groups, which do not include bulls, are led by the (usually) oldest cow, known as the matriarch.\"\n",
    "length = len(text)\n",
    "freq = {}\n",
    "### Your solution here\n",
    "for i in range (0, length):\n",
    "    if text[i] in freq:\n",
    "        freq[text[i]] += 1\n",
    "    else:\n",
    "        freq[text[i]] = 1\n",
    "\n",
    "for i in sorted(freq.items()):\n",
    "    percentage = (int(i[1]) / length) * 100\n",
    "    print(\"'{}'\".format(i[0]), \": Count of \", i[1], \" and Percentage of \", \"{:.1f}%\".format(percentage))\n",
    "\n"
   ]
  },
  {
   "cell_type": "code",
   "execution_count": null,
   "metadata": {},
   "outputs": [],
   "source": []
  }
 ],
 "metadata": {
  "kernelspec": {
   "display_name": "Python 3",
   "language": "python",
   "name": "python3"
  },
  "language_info": {
   "codemirror_mode": {
    "name": "ipython",
    "version": 3
   },
   "file_extension": ".py",
   "mimetype": "text/x-python",
   "name": "python",
   "nbconvert_exporter": "python",
   "pygments_lexer": "ipython3",
   "version": "3.8.3"
  },
  "nteract": {
   "version": "0.25.0"
  }
 },
 "nbformat": 4,
 "nbformat_minor": 4
}
